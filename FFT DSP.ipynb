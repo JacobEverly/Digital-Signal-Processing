{
 "cells": [
  {
   "cell_type": "code",
   "execution_count": 59,
   "id": "1e338b1f",
   "metadata": {},
   "outputs": [],
   "source": [
    "import numpy as np\n",
    "import matplotlib.pyplot as plt\n",
    "import scipy as sp\n",
    "import scipy.io.wavfile as spw\n",
    "import time\n",
    "import pyaudio"
   ]
  },
  {
   "cell_type": "code",
   "execution_count": 9,
   "id": "b62fe045",
   "metadata": {},
   "outputs": [],
   "source": [
    "#Question 1\n",
    "x = np.array([3, 4, 1, 2, 5, 6, 7, 8, 2, 4])\n",
    "h = np.array([(1/3),(1/3),(1/3)])\n",
    "xpad = np.pad(x,(3,3,))\n",
    "hpad = np.pad(h,(7,6))\n"
   ]
  },
  {
   "cell_type": "code",
   "execution_count": 23,
   "id": "85a4652f",
   "metadata": {},
   "outputs": [
    {
     "name": "stdout",
     "output_type": "stream",
     "text": [
      "[1.         2.33333333 2.66666667 2.33333333 2.66666667 4.33333333\n",
      " 6.         7.         5.66666667 4.66666667 2.         1.33333333]\n"
     ]
    }
   ],
   "source": [
    "#fft\n",
    "Xs = np.fft.fft(xpad)\n",
    "Hs = np.fft.fft(hpad)\n",
    "#multipy fft together\n",
    "Ys = np.multiply(Xs,Hs)\n",
    "#inverse fft\n",
    "y = np.fft.ifft(np.fft.fftshift(Ys))\n",
    "#magnitude and convolve\n",
    "ymag = np.abs(np.fft.fftshift(y))[2:-2]\n",
    "print(ymag)"
   ]
  },
  {
   "cell_type": "code",
   "execution_count": 4,
   "id": "bf36f6f7",
   "metadata": {},
   "outputs": [
    {
     "data": {
      "text/plain": [
       "array([2.33333333, 2.66666667, 2.33333333, 2.66666667, 4.33333333,\n",
       "       6.        , 7.        , 5.66666667, 4.66666667, 2.        ])"
      ]
     },
     "execution_count": 4,
     "metadata": {},
     "output_type": "execute_result"
    }
   ],
   "source": [
    "#convolve and compare original and new function\n",
    "np.convolve(x,h,'same')"
   ]
  },
  {
   "cell_type": "code",
   "execution_count": 55,
   "id": "add42b50",
   "metadata": {},
   "outputs": [
    {
     "name": "stderr",
     "output_type": "stream",
     "text": [
      "/var/folders/y1/wt0h1yhn5hxd3qg29h4rkdgm0000gn/T/ipykernel_66950/1806735777.py:1: WavFileWarning: Chunk (non-data) not understood, skipping it.\n",
      "  clipwave = spw.read('/Users/jacobeverly/Documents/DSP/HW2/wav-files/clip.wav')\n"
     ]
    },
    {
     "data": {
      "text/plain": [
       "[<matplotlib.lines.Line2D at 0x7fb602ab6ee0>]"
      ]
     },
     "execution_count": 55,
     "metadata": {},
     "output_type": "execute_result"
    },
    {
     "data": {
      "image/png": "[encoded data removed]",
      "text/plain": [
       "<Figure size 432x288 with 2 Axes>"
      ]
     },
     "metadata": {
      "needs_background": "light"
     },
     "output_type": "display_data"
    }
   ],
   "source": [
    "#Read files\n",
    "clipwave = spw.read('/Users/jacobeverly/Documents/DSP/HW2/wav-files/clip.wav')\n",
    "corwave = spw.read('/Users/jacobeverly/Documents/DSP/HW2/wav-files/Corcovado.wav')\n",
    "#take samply from specified time\n",
    "corwave_arr = np.array(corwave[1])\n",
    "fs = float(corwave[0])\n",
    "st = int(122*fs)\n",
    "fin = int(125*fs)\n",
    "cortrim = corwave_arr[st:fin,0]\n",
    "#fft for wave\n",
    "corfft = np.fft.fft(cortrim)\n",
    "#plot the waves\n",
    "fig,ax = plt.subplots(2,1)\n",
    "\n",
    "maxfs = fs/2\n",
    "freq = np.linspace(-maxfs,maxfs,corfft.size)\n",
    "ax[0].plot(freq,np.abs(corfft))\n",
    "ax[1].plot(freq,np.abs(np.fft.fftshift(corfft)))\n"
   ]
  },
  {
   "cell_type": "code",
   "execution_count": 57,
   "id": "c2bf859b",
   "metadata": {},
   "outputs": [],
   "source": [
    "maxin = np.argmax(np.abs(corfft))\n",
    "sfreq = freq[maxin]\n",
    "n = np.linspace(0,100,101)\n",
    "ssin = np.sin(2*np.pi*n)"
   ]
  },
  {
   "cell_type": "code",
   "execution_count": 60,
   "id": "53fa8a1e",
   "metadata": {},
   "outputs": [
    {
     "ename": "NameError",
     "evalue": "name 'pyaudio' is not defined",
     "output_type": "error",
     "traceback": [
      "\u001b[0;31m---------------------------------------------------------------------------\u001b[0m",
      "\u001b[0;31mNameError\u001b[0m                                 Traceback (most recent call last)",
      "Input \u001b[0;32mIn [60]\u001b[0m, in \u001b[0;36m<cell line: 1>\u001b[0;34m()\u001b[0m\n\u001b[0;32m----> 1\u001b[0m P \u001b[38;5;241m=\u001b[39m \u001b[43mpyaudio\u001b[49m\u001b[38;5;241m.\u001b[39mPyAudio()\n\u001b[1;32m      2\u001b[0m play \u001b[38;5;241m=\u001b[39m P\u001b[38;5;241m.\u001b[39mopen(rate\u001b[38;5;241m=\u001b[39m\u001b[38;5;28mint\u001b[39m(fs), \u001b[38;5;28mformat\u001b[39m \u001b[38;5;241m=\u001b[39m pyaudio\u001b[38;5;241m.\u001b[39mpaInt16, channels\u001b[38;5;241m=\u001b[39m\u001b[38;5;241m1\u001b[39m, Output \u001b[38;5;241m=\u001b[39m \u001b[38;5;28;01mTrue\u001b[39;00m)\n\u001b[1;32m      3\u001b[0m play\u001b[38;5;241m.\u001b[39mwrite(ssin\u001b[38;5;241m.\u001b[39mastype(np\u001b[38;5;241m.\u001b[39mfloat32)\u001b[38;5;241m.\u001b[39mtostring())\n",
      "\u001b[0;31mNameError\u001b[0m: name 'pyaudio' is not defined"
     ]
    }
   ],
   "source": [
    "P = pyaudio.PyAudio()\n",
    "play = P.open(rate=int(fs), format = pyaudio.paInt16, channels=1, Output = True)\n",
    "play.write(ssin.astype(np.float32).tostring())\n",
    "play.close()"
   ]
  },
  {
   "cell_type": "code",
   "execution_count": 38,
   "id": "ade77827",
   "metadata": {},
   "outputs": [
    {
     "name": "stdout",
     "output_type": "stream",
     "text": [
      "[1.0, 0.9987764162142613, 0.9951086591716066, 0.9890057044881307, 0.9804824871166253, 0.9695598647982466, 0.9562645670201275, 0.9406291296038439, 0.9226918150848067, 0.9024965190774262, 0.8800926628551884, 0.855535072408516, 0.8288838442763838, 0.8002041984800171, 0.7695663189185699, 0.7370451816173638, 0.7027203712489902, 0.6666758863762795, 0.6289999338937425, 0.5897847131705195, 0.5491261904230725, 0.5071238638697733, 0.46388052024208937, 0.41950198324822896, 0.37409685460479325, 0.32777624827017693, 0.2806535185300931, 0.2328439826006414, 0.18446463842775596, 0.13563387837362578, 0.08647119949074576, 0.03709691109260524, -0.012368159663362882, -0.061802963460083966, -0.11108652504880433, -0.16009823929579758, -0.2087181663233351, -0.25682732502266786, -0.3043079842207361, -0.35104395078807754, -0.396920853982887, -0.44182642533538663, -0.4856507733875833, -0.5282866526160838, -0.5696297258798569, -0.6095788197507078, -0.6480361721016052, -0.6849076713469912, -0.7201030867496003, -0.7535362892301954, -0.7851254621398547, -0.8147933014790243, -0.8424672050733574, -0.8680794502434017, -0.8915673595333444, -0.9128734540932492, -0.9319455943394346, -0.9487371075487709, -0.963206902074657, -0.9753195679051626, -0.9850454633172633, -0.9923607874151029, -0.9972476383747747, -0.9996940572530831, -0.9996940572530831, -0.9972476383747747, -0.992360787415103, -0.9850454633172634, -0.9753195679051627, -0.963206902074657, -0.948737107548771, -0.9319455943394346, -0.9128734540932493, -0.8915673595333445, -0.8680794502434018, -0.8424672050733577, -0.8147933014790244, -0.7851254621398548, -0.7535362892301956, -0.7201030867496006, -0.6849076713469914, -0.6480361721016055, -0.609578819750708, -0.5696297258798573, -0.5282866526160844, -0.4856507733875836, -0.44182642533538646, -0.3969208539828876, -0.35104395078807793, -0.30430798422073635, -0.2568273250226681, -0.20871816632333598, -0.1600982392957974, -0.11108652504880434, -0.061802963460083765, -0.012368159663363349, 0.037096911092604996, 0.08647119949074554, 0.13563387837362556, 0.18446463842775504, 0.2328439826006407, 0.2806535185300933, 0.3277762482701763, 0.3740968546047928, 0.4195019832482288, 0.4638805202420892, 0.507123863869773, 0.5491261904230718, 0.5897847131705196, 0.6289999338937428, 0.666675886376279, 0.7027203712489899, 0.7370451816173638, 0.7695663189185697, 0.8002041984800166, 0.8288838442763835, 0.8555350724085157, 0.8800926628551885, 0.9024965190774261, 0.9226918150848066, 0.9406291296038438, 0.9562645670201275, 0.9695598647982464, 0.9804824871166252, 0.9890057044881307, 0.9951086591716065, 0.9987764162142613, 1.0]\n"
     ]
    }
   ],
   "source": [
    "#Question 3\n",
    "#Part 1\n",
    "fs = 128\n",
    "xt = np.linspace(0,1,128)\n",
    "val = []\n",
    "for i in xt:\n",
    "    y = np.cos(2*np.pi*i)\n",
    "    val.append(y)\n",
    "print(val)\n",
    "val = np.array(val)"
   ]
  },
  {
   "cell_type": "markdown",
   "id": "36ca98e8",
   "metadata": {},
   "source": [
    "Clearly it is not a nnyquist rate becuase it is way more then double"
   ]
  },
  {
   "cell_type": "code",
   "execution_count": 19,
   "id": "6b398c37",
   "metadata": {},
   "outputs": [
    {
     "name": "stderr",
     "output_type": "stream",
     "text": [
      "/Users/jacobeverly/opt/anaconda3/lib/python3.9/site-packages/matplotlib/cbook/__init__.py:1298: ComplexWarning: Casting complex values to real discards the imaginary part\n",
      "  return np.asarray(x, float)\n"
     ]
    },
    {
     "data": {
      "text/plain": [
       "[<matplotlib.lines.Line2D at 0x7fb5f1277d60>]"
      ]
     },
     "execution_count": 19,
     "metadata": {},
     "output_type": "execute_result"
    },
    {
     "data": {
      "image/png": "[encoded data removed]",
      "text/plain": [
       "<Figure size 432x288 with 1 Axes>"
      ]
     },
     "metadata": {
      "needs_background": "light"
     },
     "output_type": "display_data"
    }
   ],
   "source": [
    "#Part 2\n",
    "def dft(val,N = None):\n",
    "    k = np.arange(0,N)\n",
    "    n = np.arange(0,N)\n",
    "    val2 = []\n",
    "    for i in k:\n",
    "        y = np.sum(val*(np.exp(-1j*2*np.pi*i*n/N)))\n",
    "        val2.append(y)\n",
    "    return val2\n",
    "    \n",
    "dft(val,128)\n",
    "\n",
    "plt.plot(dft(val,128))"
   ]
  },
  {
   "cell_type": "code",
   "execution_count": 44,
   "id": "0b458cc6",
   "metadata": {},
   "outputs": [],
   "source": [
    "def seperate(sig, N):\n",
    "    return sig[::2],sig[1::2]\n",
    "\n",
    "def MyFFT(sig,N):\n",
    "    if N < 2:\n",
    "        return sig\n",
    "    else:\n",
    "        e,o = seperate(sig,N)\n",
    "        E = MyFFT(e,int(N/2))\n",
    "        O = MyFFT(o,int(N/2))\n",
    "        X = np.zeros(int(N),dtype = np.cdouble)\n",
    "        k = np.arange(int(N/2))\n",
    "        X[:int(N/2)] = E+O*np.exp(-1j*2*np.pi*k/N)\n",
    "        X[int(N/2):] = E-O*np.exp(-1j*2*np.pi*k/N)\n",
    "        return X\n",
    "    \n",
    "        \n"
   ]
  },
  {
   "cell_type": "code",
   "execution_count": 45,
   "id": "7cf6dadc",
   "metadata": {},
   "outputs": [],
   "source": [
    "V = MyFFT(val,128)"
   ]
  },
  {
   "cell_type": "code",
   "execution_count": 46,
   "id": "c464a7e1",
   "metadata": {},
   "outputs": [
    {
     "name": "stderr",
     "output_type": "stream",
     "text": [
      "/Users/jacobeverly/opt/anaconda3/lib/python3.9/site-packages/matplotlib/cbook/__init__.py:1298: ComplexWarning: Casting complex values to real discards the imaginary part\n",
      "  return np.asarray(x, float)\n"
     ]
    },
    {
     "data": {
      "text/plain": [
       "[<matplotlib.lines.Line2D at 0x7fb602b866a0>]"
      ]
     },
     "execution_count": 46,
     "metadata": {},
     "output_type": "execute_result"
    },
    {
     "data": {
      "image/png": "[encoded data removed]",
      "text/plain": [
       "<Figure size 432x288 with 1 Axes>"
      ]
     },
     "metadata": {
      "needs_background": "light"
     },
     "output_type": "display_data"
    }
   ],
   "source": [
    "plt.plot(MyFFT(val,128))"
   ]
  },
  {
   "cell_type": "code",
   "execution_count": 53,
   "id": "efe28b85",
   "metadata": {},
   "outputs": [
    {
     "name": "stderr",
     "output_type": "stream",
     "text": [
      "/var/folders/y1/wt0h1yhn5hxd3qg29h4rkdgm0000gn/T/ipykernel_66950/2703542015.py:1: WavFileWarning: Chunk (non-data) not understood, skipping it.\n",
      "  fs, clipwave = spw.read('/Users/jacobeverly/Documents/DSP/HW2/wav-files/clip.wav')\n"
     ]
    },
    {
     "name": "stdout",
     "output_type": "stream",
     "text": [
      "MyFFT Time = 0.10216283798217773\n",
      "DFT Time = 1.2873280048370361\n"
     ]
    }
   ],
   "source": [
    "fs, clipwave = spw.read('/Users/jacobeverly/Documents/DSP/HW2/wav-files/clip.wav')\n",
    "clipwave = clipwave[:8192,0]\n",
    "\n",
    "start = time.time()\n",
    "MyFFT(clipwave,8192)\n",
    "print(f\"MyFFT Time = {time.time()-start}\")\n",
    "\n",
    "start = time.time()\n",
    "dft(clipwave,8192)\n",
    "print(f\"DFT Time = {time.time()-start}\")\n",
    "\n",
    "\n"
   ]
  },
  {
   "cell_type": "code",
   "execution_count": null,
   "id": "1e29cb95",
   "metadata": {},
   "outputs": [],
   "source": []
  }
 ],
 "metadata": {
  "kernelspec": {
   "display_name": "Python 3 (ipykernel)",
   "language": "python",
   "name": "python3"
  },
  "language_info": {
   "codemirror_mode": {
    "name": "ipython",
    "version": 3
   },
   "file_extension": ".py",
   "mimetype": "text/x-python",
   "name": "python",
   "nbconvert_exporter": "python",
   "pygments_lexer": "ipython3",
   "version": "3.9.12"
  }
 },
 "nbformat": 4,
 "nbformat_minor": 5
}
